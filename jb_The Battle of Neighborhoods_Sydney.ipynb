{
    "cells": [
        {
            "cell_type": "markdown",
            "metadata": {
                "collapsed": true
            },
            "source": "**Background:**\nThe tourism sector makes a significant impact on Sydney\u2019s economy, benefiting the city\u2019s businesses and communities.\nSydney offers a wide variety of touristic attractions - museums, night clubs, theatre and ballet, sightseeing, and beaches. This attract differect categories of tourists - from backpackers to luxury family trips. Apart from purely touristic purposes many people come to Sydney for business or transit travel. \n\nOver 12.4 million visitors travelled to Sydney in the year ending June 2020. \nThis total was made up of 2.8 million international visitors and 9.6 million domestic visitors.\nAlthough the numbers were down 22% when compared to the 15.9 million visitors in 2019, they are expected to get back to higher levels over the next 5 years.\n\nFor 2019/20, there were 19,756,379 international visitors nights in the City of Sydney, accounting for 50.3% of the total visitor nights, while domestic visitor nights in the same period made 14,068,970.\n\nSources:\n1. City of Sydney. Tourism visitor summary https://economy.id.com.au/sydney/tourism-visitor-summary\n2. INTERNATIONAL VISITOR SURVEY RESULTS SEPTEMBER 2020. https://www.tra.gov.au/data-and-research/reports/international-visitor-survey-results-september-2020/international-visitor-survey-results-september-2020\n3. Sydney Tourism Statistics. https://camperchamp.com.au/statistics/australia/sydney-tourism/#:~:text=How%20many%20tourists%20visited%20Sydney,July%202018%20to%20June%202019.&text=This%20total%20included%204.1%20million,12%20million%20domestic%20overnight%20visitors."
        },
        {
            "cell_type": "markdown",
            "metadata": {},
            "source": "**Problem identified and project goal:**\nAs Sydney is one of busiest travel destination in Australia, as well is one of the largest cities in the world, it hosts a wide range of accomodation options, from camping to boutique hotels.\nAirbnb also offers a lot of places to stay and its database is constantly growing. \nBut given the size of the city and a variety of options it can be difficult to choose where to stay given one's travel goals.\n\nThis project aims to find an optimal suburb in Sydney for tourists to rent on Airnbn during their travel. \nThe major criteria are: proximity to tourist attractions, crime rates in the suburb and pricing. "
        },
        {
            "cell_type": "markdown",
            "metadata": {},
            "source": "**Target Audience:**\nInternational and domestic travellers visiting Sydney for a short term for tourist and business purposes. \nThe results should be useful for those not familiar with Sydney suburbs or those who want to try some new part of the city."
        },
        {
            "cell_type": "markdown",
            "metadata": {},
            "source": "**Data and Data sources:**\n\nthis research will be using free abd publicly available datasets.\n\n*Airbnb data:*\nextracted from Inside Airbnb. http://insideairbnb.com/get-the-data.html\nData includes dated listings on Airbnb as of Dec 2020 and review details.\nThis will be used to identify price ranges for different suburbs, quality of accomodation based on users' reviews and location of each accomodation.\n\n*Crime statistics data:*\nextracted from NSW Bureau of Crime Statistics and Research. https://www.bocsar.nsw.gov.au/Pages/bocsar_datasets/Offence.aspx\nData includes numbers of crimes in 1995 to September 2020 by type in each suburb.\nThis will be used to identify suburbs with high crime rates which is a disadvantage for a tourist accomodation.\n\n*Attractions data:*\nextracted from Foursquare API. \nData includes listing of different types of venues and attractions by suburb.\nThis will be used to assess proximity of Airbnb locations to tourist attractions and, potentially, will help identify other benefits of each suburb (beaches, cafes, night clubs etc.)"
        }
    ],
    "metadata": {
        "kernelspec": {
            "display_name": "Python 3.7",
            "language": "python",
            "name": "python3"
        },
        "language_info": {
            "codemirror_mode": {
                "name": "ipython",
                "version": 3
            },
            "file_extension": ".py",
            "mimetype": "text/x-python",
            "name": "python",
            "nbconvert_exporter": "python",
            "pygments_lexer": "ipython3",
            "version": "3.7.9"
        }
    },
    "nbformat": 4,
    "nbformat_minor": 1
}